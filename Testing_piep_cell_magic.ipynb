{
 "cells": [
  {
   "cell_type": "code",
   "execution_count": 1,
   "metadata": {},
   "outputs": [],
   "source": [
    "%load_ext piep_magic"
   ]
  },
  {
   "cell_type": "code",
   "execution_count": 2,
   "metadata": {},
   "outputs": [],
   "source": [
    "import pandas as pd"
   ]
  },
  {
   "cell_type": "code",
   "execution_count": 3,
   "metadata": {},
   "outputs": [
    {
     "data": {
      "text/plain": [
       "\"SELECT rowid, datetime(created), task, contexts, tags, active, notes_count FROM (SELECT rowid, * FROM tasks WHERE ((active = 1) AND (contexts LIKE 'foo') AND (tags LIKE 'bar') AND (task LIKE 'spam'))) LEFT OUTER JOIN (SELECT count(note) AS notes_count, task_ref FROM notes GROUP BY task_ref) ON (rowid = task_ref)\""
      ]
     },
     "execution_count": 3,
     "metadata": {},
     "output_type": "execute_result"
    }
   ],
   "source": [
    "%%piep\n",
    "\n",
    "(select rowid (datetime created) task contexts tags active notes_count\n",
    "        #:from\n",
    "        (left-join\n",
    "         (select rowid * #:from tasks\n",
    "                 #:where (and\n",
    "                          (= active 1)\n",
    "                          (like contexts \"foo\")\n",
    "                          (like tags \"bar\")\n",
    "                          (like task \"spam\")))\n",
    "         (select (as (count note) notes_count) task_ref\n",
    "                 #:from notes\n",
    "                 #:group-by task_ref)\n",
    "         #:on (= rowid task_ref)))"
   ]
  },
  {
   "cell_type": "code",
   "execution_count": null,
   "metadata": {},
   "outputs": [],
   "source": [
    "pd.read_sql(_, conn)"
   ]
  }
 ],
 "metadata": {
  "kernelspec": {
   "display_name": "Python 3",
   "language": "python",
   "name": "python3"
  },
  "language_info": {
   "codemirror_mode": {
    "name": "ipython",
    "version": 3
   },
   "file_extension": ".py",
   "mimetype": "text/x-python",
   "name": "python",
   "nbconvert_exporter": "python",
   "pygments_lexer": "ipython3",
   "version": "3.6.7"
  }
 },
 "nbformat": 4,
 "nbformat_minor": 2
}
